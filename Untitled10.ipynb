{
  "nbformat": 4,
  "nbformat_minor": 0,
  "metadata": {
    "colab": {
      "provenance": []
    },
    "kernelspec": {
      "name": "python3",
      "display_name": "Python 3"
    },
    "language_info": {
      "name": "python"
    }
  },
  "cells": [
    {
      "cell_type": "code",
      "execution_count": 16,
      "metadata": {
        "colab": {
          "base_uri": "https://localhost:8080/"
        },
        "id": "mRo5u2IoVUBp",
        "outputId": "b8a9287c-a17f-41ad-8df1-bba0e3e12273"
      },
      "outputs": [
        {
          "output_type": "stream",
          "name": "stdout",
          "text": [
            "False\n",
            "True\n"
          ]
        }
      ],
      "source": [
        "def binary_search(sequence,item):\n",
        "  begin_index = 0\n",
        "  end_index = len(sequence) - 1\n",
        "\n",
        "  while begin_index <= end_index:\n",
        "    midpoint = begin_index + (end_index - begin_index) // 2\n",
        "    midpoint_value = sequence[midpoint]\n",
        "    if midpoint_value == item:\n",
        "      return \"True\"\n",
        "    elif item < midpoint_value:\n",
        "      end_index = midpoint - 1\n",
        "    else:\n",
        "      begin_index = midpoint + 1\n",
        "  return \"False\"\n",
        "\n",
        "\n",
        "print(binary_search([1,2,3,5,8], 6))\n",
        "print(binary_search([1,2,3,5,8], 5))"
      ]
    },
    {
      "cell_type": "code",
      "source": [
        "def power(a,b):\n",
        "\tif b==0:\n",
        "\t\treturn 1\n",
        "\telif a==0:\n",
        "\t\treturn 0\n",
        "\telif b==1:\n",
        "\t\treturn a\n",
        "\telse:\n",
        "\t\treturn a*power(a,b-1)\n",
        "\n",
        "print(power(3,4))"
      ],
      "metadata": {
        "colab": {
          "base_uri": "https://localhost:8080/"
        },
        "id": "RDt-ozJuVWgz",
        "outputId": "900e4d58-5bba-4f76-f074-2fd4acec611c"
      },
      "execution_count": 7,
      "outputs": [
        {
          "output_type": "stream",
          "name": "stdout",
          "text": [
            "81\n"
          ]
        }
      ]
    },
    {
      "cell_type": "code",
      "source": [
        "s=[29,13,22,37,52,49,46,71,56]\n",
        "for j in range (len(s)-1):\n",
        "  for i in range(len(s)-1):\n",
        "    if s[i] > s[i+1]:\n",
        "      s[i] , s[i+1] = s[i+1] , s[i]\n",
        "      print(s)"
      ],
      "metadata": {
        "colab": {
          "base_uri": "https://localhost:8080/"
        },
        "id": "zoFcnZxlVWv0",
        "outputId": "8b26445c-d11e-455b-9d17-9a7e7f17766e"
      },
      "execution_count": 6,
      "outputs": [
        {
          "output_type": "stream",
          "name": "stdout",
          "text": [
            "[13, 29, 22, 37, 52, 49, 46, 71, 56]\n",
            "[13, 22, 29, 37, 52, 49, 46, 71, 56]\n",
            "[13, 22, 29, 37, 49, 52, 46, 71, 56]\n",
            "[13, 22, 29, 37, 49, 46, 52, 71, 56]\n",
            "[13, 22, 29, 37, 49, 46, 52, 56, 71]\n",
            "[13, 22, 29, 37, 46, 49, 52, 56, 71]\n"
          ]
        }
      ]
    },
    {
      "cell_type": "code",
      "source": [
        "\n",
        "\n",
        "def mergeSort(nlist):\n",
        "    print(\"Splitting \",nlist)\n",
        "    if len(nlist)>1:\n",
        "        mid = len(nlist)//2\n",
        "        lefthalf = nlist[:mid]\n",
        "        righthalf = nlist[mid:]\n",
        "\n",
        "        mergeSort(lefthalf)\n",
        "        mergeSort(righthalf)\n",
        "        i=j=k=0       \n",
        "        while i < len(lefthalf) and j < len(righthalf):\n",
        "            if lefthalf[i] < righthalf[j]:\n",
        "                nlist[k]=lefthalf[i]\n",
        "                i=i+1\n",
        "            else:\n",
        "                nlist[k]=righthalf[j]\n",
        "                j=j+1\n",
        "            k=k+1\n",
        "\n",
        "        while i < len(lefthalf):\n",
        "            nlist[k]=lefthalf[i]\n",
        "            i=i+1\n",
        "            k=k+1\n",
        "\n",
        "        while j < len(righthalf):\n",
        "            nlist[k]=righthalf[j]\n",
        "            j=j+1\n",
        "            k=k+1\n",
        "    print(\"Merging \",nlist)\n",
        "\n",
        "nlist = [29,13,22,37,52,49,46,71,56]\n",
        "mergeSort(nlist)\n",
        "print(nlist)"
      ],
      "metadata": {
        "colab": {
          "base_uri": "https://localhost:8080/"
        },
        "id": "1CU-gd92VW-7",
        "outputId": "65eb79b7-896d-40b5-9d5f-d5b16f69d431"
      },
      "execution_count": 17,
      "outputs": [
        {
          "output_type": "stream",
          "name": "stdout",
          "text": [
            "Splitting  [29, 13, 22, 37, 52, 49, 46, 71, 56]\n",
            "Splitting  [29, 13, 22, 37]\n",
            "Splitting  [29, 13]\n",
            "Splitting  [29]\n",
            "Merging  [29]\n",
            "Splitting  [13]\n",
            "Merging  [13]\n",
            "Merging  [13, 29]\n",
            "Splitting  [22, 37]\n",
            "Splitting  [22]\n",
            "Merging  [22]\n",
            "Splitting  [37]\n",
            "Merging  [37]\n",
            "Merging  [22, 37]\n",
            "Merging  [13, 22, 29, 37]\n",
            "Splitting  [52, 49, 46, 71, 56]\n",
            "Splitting  [52, 49]\n",
            "Splitting  [52]\n",
            "Merging  [52]\n",
            "Splitting  [49]\n",
            "Merging  [49]\n",
            "Merging  [49, 52]\n",
            "Splitting  [46, 71, 56]\n",
            "Splitting  [46]\n",
            "Merging  [46]\n",
            "Splitting  [71, 56]\n",
            "Splitting  [71]\n",
            "Merging  [71]\n",
            "Splitting  [56]\n",
            "Merging  [56]\n",
            "Merging  [56, 71]\n",
            "Merging  [46, 56, 71]\n",
            "Merging  [46, 49, 52, 56, 71]\n",
            "Merging  [13, 22, 29, 37, 46, 49, 52, 56, 71]\n",
            "[13, 22, 29, 37, 46, 49, 52, 56, 71]\n"
          ]
        }
      ]
    },
    {
      "cell_type": "code",
      "source": [
        "\n",
        "\n",
        "def quickSort(data_list):\n",
        "   quickSortHlp(data_list,0,len(data_list)-1)\n",
        "\n",
        "def quickSortHlp(data_list,first,last):\n",
        "   if first < last:\n",
        "\n",
        "       splitpoint = partition(data_list,first,last)\n",
        "\n",
        "       quickSortHlp(data_list,first,splitpoint-1)\n",
        "       quickSortHlp(data_list,splitpoint+1,last)\n",
        "\n",
        "\n",
        "def partition(data_list,first,last):\n",
        "   pivotvalue = data_list[first]\n",
        "\n",
        "   leftmark = first+1\n",
        "   rightmark = last\n",
        "\n",
        "   done = False\n",
        "   while not done:\n",
        "\n",
        "       while leftmark <= rightmark and data_list[leftmark] <= pivotvalue:\n",
        "           leftmark = leftmark + 1\n",
        "\n",
        "       while data_list[rightmark] >= pivotvalue and rightmark >= leftmark:\n",
        "           rightmark = rightmark -1\n",
        "\n",
        "       if rightmark < leftmark:\n",
        "           done = True\n",
        "       else:\n",
        "           temp = data_list[leftmark]\n",
        "           data_list[leftmark] = data_list[rightmark]\n",
        "           data_list[rightmark] = temp\n",
        "\n",
        "   temp = data_list[first]\n",
        "   data_list[first] = data_list[rightmark]\n",
        "   data_list[rightmark] = temp\n",
        "\n",
        "\n",
        "   return rightmark\n",
        "\n",
        "data_list = [29,13,22,37,52,49,46,71,56]\n",
        "quickSort(data_list)\n",
        "print(data_list)"
      ],
      "metadata": {
        "colab": {
          "base_uri": "https://localhost:8080/"
        },
        "id": "GwE3n22JVXl_",
        "outputId": "954e5649-a23c-42f0-8975-b89a675efce5"
      },
      "execution_count": 18,
      "outputs": [
        {
          "output_type": "stream",
          "name": "stdout",
          "text": [
            "[13, 22, 29, 37, 46, 49, 52, 56, 71]\n"
          ]
        }
      ]
    }
  ]
}
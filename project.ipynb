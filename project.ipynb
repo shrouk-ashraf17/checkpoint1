{
  "nbformat": 4,
  "nbformat_minor": 0,
  "metadata": {
    "colab": {
      "provenance": []
    },
    "kernelspec": {
      "name": "python3",
      "display_name": "Python 3"
    },
    "language_info": {
      "name": "python"
    }
  },
  "cells": [
    {
      "cell_type": "code",
      "execution_count": 2,
      "metadata": {
        "colab": {
          "base_uri": "https://localhost:8080/"
        },
        "id": "N9zS_wTMkE-e",
        "outputId": "277df2ed-7830-45e5-c8ce-102606498a3f"
      },
      "outputs": [
        {
          "output_type": "stream",
          "name": "stdout",
          "text": [
            "please enter the number of seconds :3\n",
            "/r 00:03 /r 00:02 /r 00:01 \n",
            " Fire in the hole!\n"
          ]
        }
      ],
      "source": [
        "import time\n",
        "seconds = int(input(\"please enter the number of seconds :\"))\n",
        "\n",
        "def countdown(t):\n",
        "  while t:\n",
        "    mins , secs = divmod(t,60)\n",
        "    timeformat = '{:02d}:{:02d}'.format(mins,secs)\n",
        "    print (\"/r\",timeformat,end=\" \")\n",
        "    time.sleep(1)\n",
        "    t-=1\n",
        "  print(\"\\n\", \"Fire in the hole!\")\n",
        "countdown(seconds)"
      ]
    }
  ]
}
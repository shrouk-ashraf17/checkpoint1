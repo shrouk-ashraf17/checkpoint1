{
  "nbformat": 4,
  "nbformat_minor": 0,
  "metadata": {
    "colab": {
      "provenance": [],
      "collapsed_sections": []
    },
    "kernelspec": {
      "name": "python3",
      "display_name": "Python 3"
    },
    "language_info": {
      "name": "python"
    }
  },
  "cells": [
    {
      "cell_type": "code",
      "source": [
        "class Point3D:\n",
        "  def __init__(self,x,y,z):\n",
        "    self.x= x\n",
        "    self.y= y\n",
        "    self.z= z\n",
        "  def shrouk(self):\n",
        "    return (self.x,self.y,self.z)\n",
        "my_point = Point3D(1,2,3)\n",
        "my_point.shrouk()"
      ],
      "metadata": {
        "colab": {
          "base_uri": "https://localhost:8080/"
        },
        "id": "mEpBF_YFD85S",
        "outputId": "5894dea5-0b02-4f81-9820-4cafc5cd987f"
      },
      "execution_count": null,
      "outputs": [
        {
          "output_type": "execute_result",
          "data": {
            "text/plain": [
              "(1, 2, 3)"
            ]
          },
          "metadata": {},
          "execution_count": 19
        }
      ]
    },
    {
      "cell_type": "code",
      "source": [
        "\n",
        "class Rectangle:\n",
        "  def __init__(self,l,w):\n",
        "    self.l = l\n",
        "    self.w = w\n",
        "  def area(self):\n",
        "    return self.l * self.w\n",
        "  def perimeter(self):\n",
        "    return 2*(self.l + self.w)\n",
        "shrouk = Rectangle(3,4)\n",
        "print(shrouk.area())\n",
        "print(shrouk.perimeter())"
      ],
      "metadata": {
        "colab": {
          "base_uri": "https://localhost:8080/"
        },
        "id": "oSJtFeZHD1Oz",
        "outputId": "f3fa3ab3-8491-447e-c7d9-0d3bbb0f08a9"
      },
      "execution_count": null,
      "outputs": [
        {
          "output_type": "stream",
          "name": "stdout",
          "text": [
            "12\n",
            "14\n"
          ]
        }
      ]
    },
    {
      "cell_type": "code",
      "execution_count": null,
      "metadata": {
        "colab": {
          "base_uri": "https://localhost:8080/"
        },
        "id": "8DuOI0Fq_XhD",
        "outputId": "e996dfca-2f2b-4ac8-eb6d-237586b49b27"
      },
      "outputs": [
        {
          "output_type": "stream",
          "name": "stdout",
          "text": [
            "254.46900494077323\n",
            "56.548667764616276\n",
            "yes\n"
          ]
        }
      ],
      "source": [
        "import math\n",
        "class Circle:\n",
        "  def __init__(self,center,radius):\n",
        "      self.o = center\n",
        "      self.r = radius\n",
        "\n",
        "  def area(self):\n",
        "    return  math.pi*self.r**2\n",
        "  \n",
        "  def perimeter(self):\n",
        "     return 2*math.pi*self.r\n",
        "  def inside(self,x,y):\n",
        "    if ((x-self.o[0]**2)+(y-self.o[1]**2))<=self.r**2:\n",
        "      return 'yes'\n",
        "    else:\n",
        "      return \"no\"\n",
        "\n",
        "\n",
        "\n",
        "shrouk = Circle((5,8),9)\n",
        "print(shrouk.area())\n",
        "print(shrouk.perimeter())\n",
        "print(shrouk.inside(1,2))\n",
        "\n"
      ]
    },
    {
      "cell_type": "code",
      "source": [
        "class Bank:\n",
        "  def __init__(self,balance):\n",
        "    self.balance= balance\n",
        "\n",
        "  def deposit(self,x):\n",
        "      self.balance = self.balance + x\n",
        "      return self.balance\n",
        "\n",
        "\n",
        "  def withdraw(self,x):\n",
        "      self.balance = self.balance - x\n",
        "      return self.balance \n",
        "\n",
        "new = Bank(5000)\n",
        "print(new.deposit(2000))\n",
        "print(new.withdraw(3000))"
      ],
      "metadata": {
        "id": "j_VjdLXCJfsL",
        "colab": {
          "base_uri": "https://localhost:8080/"
        },
        "outputId": "aebf17a2-d365-486e-dd3c-dce28b4e2e78"
      },
      "execution_count": 13,
      "outputs": [
        {
          "output_type": "stream",
          "name": "stdout",
          "text": [
            "7000\n",
            "4000\n"
          ]
        }
      ]
    }
  ]
}
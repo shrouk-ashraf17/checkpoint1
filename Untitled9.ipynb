{
  "nbformat": 4,
  "nbformat_minor": 0,
  "metadata": {
    "colab": {
      "provenance": [],
      "collapsed_sections": []
    },
    "kernelspec": {
      "name": "python3",
      "display_name": "Python 3"
    },
    "language_info": {
      "name": "python"
    }
  },
  "cells": [
    {
      "cell_type": "code",
      "source": [
        "file=open(\"python.txt\",\"r\")\n",
        "print(file.read())"
      ],
      "metadata": {
        "colab": {
          "base_uri": "https://localhost:8080/"
        },
        "id": "99k8L_clQvLB",
        "outputId": "4602aa1f-7f14-4348-f7b7-00a5fc9796fb"
      },
      "execution_count": 59,
      "outputs": [
        {
          "output_type": "stream",
          "name": "stdout",
          "text": [
            "my name is shrouk\n",
            "i'm 21 years\n",
            "zamalek is the best\n",
            "\n"
          ]
        }
      ]
    },
    {
      "cell_type": "code",
      "source": [
        "file=open(\"python.txt\",\"r\")\n",
        "print(file.readline())"
      ],
      "metadata": {
        "colab": {
          "base_uri": "https://localhost:8080/"
        },
        "id": "_9pYjhfWQvl_",
        "outputId": "d4c445c9-7c5e-4215-e5bd-09041b539143"
      },
      "execution_count": 60,
      "outputs": [
        {
          "output_type": "stream",
          "name": "stdout",
          "text": [
            "my name is shrouk\n",
            "\n"
          ]
        }
      ]
    },
    {
      "cell_type": "code",
      "source": [
        "file=open(\"python.txt\",\"r\")\n",
        "for line in (file.readlines() [-1:]):\n",
        "\t\t\tprint(line)"
      ],
      "metadata": {
        "colab": {
          "base_uri": "https://localhost:8080/"
        },
        "id": "gcaiW8rbQvom",
        "outputId": "d27409a0-0bd9-48b6-9045-e217a9d233da"
      },
      "execution_count": 61,
      "outputs": [
        {
          "output_type": "stream",
          "name": "stdout",
          "text": [
            "zamalek is the best\n",
            "\n"
          ]
        }
      ]
    },
    {
      "cell_type": "code",
      "source": [
        "file=open(\"python.txt\",\"r\")\n",
        "def count_words():\n",
        "  return len(file.read().split(\" \"))\n",
        "print(count_words())"
      ],
      "metadata": {
        "colab": {
          "base_uri": "https://localhost:8080/"
        },
        "id": "kDX2QxGBQvrL",
        "outputId": "17f98e97-34ad-4c0c-948d-07c4a5532b43"
      },
      "execution_count": 62,
      "outputs": [
        {
          "output_type": "stream",
          "name": "stdout",
          "text": [
            "9\n"
          ]
        }
      ]
    },
    {
      "cell_type": "code",
      "source": [],
      "metadata": {
        "id": "Tq3qucW1Qvt2"
      },
      "execution_count": 62,
      "outputs": []
    }
  ]
}
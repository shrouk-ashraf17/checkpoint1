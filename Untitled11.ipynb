{
  "nbformat": 4,
  "nbformat_minor": 0,
  "metadata": {
    "colab": {
      "provenance": []
    },
    "kernelspec": {
      "name": "python3",
      "display_name": "Python 3"
    },
    "language_info": {
      "name": "python"
    }
  },
  "cells": [
    {
      "cell_type": "code",
      "execution_count": 6,
      "metadata": {
        "colab": {
          "base_uri": "https://localhost:8080/"
        },
        "id": "TQp27wG_FIDh",
        "outputId": "83c3f75f-0ffb-4f6e-a2f7-8fa1f799e892"
      },
      "outputs": [
        {
          "output_type": "stream",
          "name": "stdout",
          "text": [
            "please enter your name : ahmed\n",
            "please enter second person's name : alaa\n",
            "['Lovers', 'Affectionate', 'Marriage', 'Enemies', 'Siblings']\n",
            "['Marriage', 'Enemies', 'Siblings', 'Lovers']\n",
            "['Lovers', 'Marriage', 'Enemies']\n",
            "['Marriage', 'Enemies']\n",
            "['Enemies']\n",
            "your relationship with the second person is :  Enemies\n"
          ]
        }
      ],
      "source": [
        "def flames(n1,n2):\n",
        "  for i in n1:\n",
        "    for j in n2:\n",
        "      if i==j:\n",
        "        n1 = n1.replace(i,\"\",1)\n",
        "        i = \"\"\n",
        "        n2 = n2.replace(j,\"\",1)\n",
        "  n3 = len(n1 + n2)\n",
        "  return n3\n",
        "\n",
        "x= input(\"please enter your name : \")\n",
        "y= input(\"please enter second person's name : \")\n",
        "z= flames(x,y)\n",
        "if z>=0:\n",
        "  flameslist=[\"Friends\",\"Lovers\",\"Affectionate\",\"Marriage\",\"Enemies\",\"Siblings\"]\n",
        "  while len(flameslist) > 1:\n",
        "    count = z %len(flameslist)\n",
        "    split = count - 1\n",
        "    if split >=0:\n",
        "      right = flameslist[split+1:]\n",
        "      left = flameslist[:split]\n",
        "      flameslist= right + left\n",
        "      print(flameslist)\n",
        "    else:\n",
        "      flameslist = flameslist [:len(flameslist)-1]\n",
        "  print(\"your relationship with the second person is : \", flameslist[0])\n",
        "else:\n",
        "  print(\"enter other names\")\n"
      ]
    }
  ]
}